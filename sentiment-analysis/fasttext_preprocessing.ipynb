{
 "metadata": {
  "language_info": {
   "codemirror_mode": {
    "name": "ipython",
    "version": 3
   },
   "file_extension": ".py",
   "mimetype": "text/x-python",
   "name": "python",
   "nbconvert_exporter": "python",
   "pygments_lexer": "ipython3",
   "version": "3.8.5-final"
  },
  "orig_nbformat": 2,
  "kernelspec": {
   "name": "python_defaultSpec_1600507446575",
   "display_name": "Python 3.8.5 64-bit"
  }
 },
 "nbformat": 4,
 "nbformat_minor": 2,
 "cells": [
  {
   "source": [
    "# Fasttext Data Pre-Processing"
   ],
   "cell_type": "markdown",
   "metadata": {}
  },
  {
   "cell_type": "code",
   "execution_count": 1,
   "metadata": {},
   "outputs": [],
   "source": [
    "# read and pre-process data\n",
    "import pandas as pd\n",
    "import string\n",
    "import nltk\n",
    "from nltk.stem import WordNetLemmatizer # word lemmatizer\n",
    "from nltk.stem.snowball import SnowballStemmer\n",
    "from nltk.corpus import stopwords # stopwords\n",
    "\n",
    "# format data\n",
    "from sklearn.model_selection import train_test_split # train test split\n",
    "import csv"
   ]
  },
  {
   "source": [
    "## Read and Clean Text"
   ],
   "cell_type": "markdown",
   "metadata": {}
  },
  {
   "cell_type": "code",
   "execution_count": 2,
   "metadata": {},
   "outputs": [],
   "source": [
    "def pre_processing(text, lemmatize=True, stem=False):\n",
    "    '''\n",
    "    Accepts a text and processes text\n",
    "    '''\n",
    "    # strip accents\n",
    "    text = text.encode('ascii', 'ignore')\n",
    "    text = str(text.decode(\"utf-8\"))\n",
    "\n",
    "    # covert to lowercase\n",
    "    text = text.lower()\n",
    "\n",
    "    # remove punctuation\n",
    "    text = text.translate(str.maketrans(string.punctuation, ' '*len(string.punctuation)))\n",
    "\n",
    "    # remove unnecessary white spaces\n",
    "    text = text.replace(\"\\n\", \"\")\n",
    "\n",
    "    # tokenize\n",
    "    text_words = nltk.word_tokenize(text)\n",
    "\n",
    "    # lemmatize\n",
    "    if lemmatize:\n",
    "        wordnet_lemmatizer = WordNetLemmatizer()\n",
    "        text_words = [wordnet_lemmatizer.lemmatize(x, pos=\"v\") for x in text_words]\n",
    "\n",
    "    # stem\n",
    "    if stem:\n",
    "        stemmer = SnowballStemmer(\"english\")\n",
    "        text_words = [stemmer.stem(x) for x in text_words]\n",
    "\n",
    "    # remove stop words\n",
    "    stop = list(stopwords.words('english'))\n",
    "    keep_stopwords = [\"no\", \"not\", \"nor\"]\n",
    "    for word in keep_stopwords:\n",
    "        stop.remove(word)\n",
    "        stop = set(stop)\n",
    "    text_words = [x for x in text_words if not x in stop]\n",
    "\n",
    "    return ' '.join(text_words)"
   ]
  },
  {
   "source": [
    "### Conventional and Cryptonews Data"
   ],
   "cell_type": "markdown",
   "metadata": {}
  },
  {
   "cell_type": "code",
   "execution_count": 3,
   "metadata": {},
   "outputs": [],
   "source": [
    "# load data\n",
    "sample_crypto = pd.read_csv(\"data/sample_crypto.csv\", header=0)\n",
    "\n",
    "# combine title and excerpt\n",
    "sample_crypto[\"text\"] = sample_crypto[\"title\"].fillna('') + \" \" + sample_crypto[\"excerpt\"].fillna('')\n",
    "\n",
    "# sample text\n",
    "sample_crypto_text = sample_crypto[[\"title\", \"text\", \"label\"]]\n",
    "sample_crypto_excerpt = sample_crypto[[\"excerpt\", \"label\"]]\n",
    "sample_crypto_excerpt = sample_crypto_excerpt.dropna(subset=[\"excerpt\"])\n",
    "\n",
    "# sample with lemmatized words\n",
    "sample_crypto_lemmatize_text = sample_crypto_text.copy()\n",
    "sample_crypto_lemmatize_text[\"title\"] = sample_crypto_lemmatize_text[\"title\"].apply(lambda x: pre_processing(x, lemmatize=True, stem=False))\n",
    "sample_crypto_lemmatize_text[\"text\"] = sample_crypto_lemmatize_text[\"text\"].apply(lambda x: pre_processing(x, lemmatize=True, stem=False))\n",
    "sample_crypto_lemmatize_excerpt = sample_crypto_excerpt.copy()\n",
    "sample_crypto_lemmatize_excerpt[\"excerpt\"] = sample_crypto_lemmatize_excerpt[\"excerpt\"].apply(lambda x: pre_processing(x, lemmatize=True, stem=False))\n",
    "\n",
    "# sample with stemmed words\n",
    "sample_crypto_stem_text = sample_crypto_text.copy()\n",
    "sample_crypto_stem_text[\"title\"] = sample_crypto_stem_text[\"title\"].apply(lambda x: pre_processing(x, lemmatize=False, stem=True))\n",
    "sample_crypto_stem_text[\"text\"] = sample_crypto_stem_text[\"text\"].apply(lambda x: pre_processing(x, lemmatize=True, stem=False))\n",
    "sample_crypto_stem_excerpt = sample_crypto_excerpt.copy()\n",
    "sample_crypto_stem_excerpt[\"excerpt\"] = sample_crypto_stem_excerpt[\"excerpt\"].apply(lambda x: pre_processing(x, lemmatize=False, stem=True))\n",
    "\n",
    "# separate lemmatized X and y\n",
    "X_crypto_lemmatize_text = sample_crypto_lemmatize_text[[\"title\", \"text\"]]\n",
    "y_crypto_lemmatize_text = sample_crypto_lemmatize_text[\"label\"]\n",
    "X_crypto_lemmatize_excerpt = sample_crypto_lemmatize_excerpt[\"excerpt\"]\n",
    "y_crypto_lemmatize_excerpt = sample_crypto_lemmatize_excerpt[\"label\"]\n",
    "\n",
    "# separate stemmed X and y\n",
    "X_crypto_stem_text = sample_crypto_stem_text[[\"title\", \"text\"]]\n",
    "y_crypto_stem_text = sample_crypto_stem_text[\"label\"]\n",
    "X_crypto_stem_excerpt = sample_crypto_stem_excerpt[\"excerpt\"]\n",
    "y_crypto_stem_excerpt = sample_crypto_stem_excerpt[\"label\"]"
   ]
  },
  {
   "source": [
    "### Reddit Data"
   ],
   "cell_type": "markdown",
   "metadata": {}
  },
  {
   "cell_type": "code",
   "execution_count": 4,
   "metadata": {},
   "outputs": [],
   "source": [
    "sample_reddit = pd.read_csv(\"data/sample_reddit.csv\", header=0)[[\"title\", \"excerpt\", \"label\"]]\n",
    "\n",
    "# combine title and excerpt (if any)\n",
    "sample_reddit[\"text\"] = sample_reddit[\"title\"].fillna('') + \" \" + sample_reddit[\"excerpt\"].fillna('')\n",
    "\n",
    "# sample with lemmatized words\n",
    "sample_reddit_lemmatize = sample_reddit.copy()\n",
    "sample_reddit_lemmatize[\"text\"] = sample_reddit_lemmatize[\"text\"].apply(lambda x: pre_processing(x, lemmatize=True, stem=False))\n",
    "\n",
    "# sample with stemmed words\n",
    "sample_reddit_stem = sample_reddit.copy()\n",
    "sample_reddit_stem[\"text\"] = sample_reddit_stem[\"text\"].apply(lambda x: pre_processing(x, lemmatize=False, stem=True))\n",
    "\n",
    "# separate lemmatized X and y\n",
    "X_reddit_lemmatize = sample_reddit_lemmatize[\"text\"]\n",
    "y_reddit_lemmatize = sample_reddit_lemmatize[\"label\"]\n",
    "\n",
    "# separate stemmed X and y\n",
    "X_reddit_stem = sample_reddit_stem[\"text\"]\n",
    "y_reddit_stem = sample_reddit_stem[\"label\"]"
   ]
  },
  {
   "source": [
    "### Twitter Data"
   ],
   "cell_type": "markdown",
   "metadata": {}
  },
  {
   "cell_type": "code",
   "execution_count": 5,
   "metadata": {},
   "outputs": [],
   "source": [
    "sample_twitter = pd.read_csv(\"data/sample_twitter.csv\", header=0)[[\"text\", \"label\"]]\n",
    "\n",
    "# remove any whitespaces in text\n",
    "sample_twitter[\"text\"] = sample_twitter[\"text\"].apply(lambda x: x.replace(\"\\n\",\"\"))\n",
    "\n",
    "# sample with lemmatized words\n",
    "sample_twitter_lemmatize = sample_twitter.copy()\n",
    "sample_twitter_lemmatize[\"text\"] = sample_twitter_lemmatize[\"text\"].apply(lambda x: pre_processing(x, lemmatize=True, stem=False))\n",
    "\n",
    "# sample with stemmed words\n",
    "sample_twitter_stem = sample_twitter.copy()\n",
    "sample_twitter_stem[\"text\"] = sample_twitter_stem[\"text\"].apply(lambda x: pre_processing(x, lemmatize=False, stem=True))\n",
    "\n",
    "# separate lemmatized X and y\n",
    "X_twitter_lemmatize = sample_twitter_lemmatize[\"text\"]\n",
    "y_twitter_lemmatize = sample_twitter_lemmatize[\"label\"]\n",
    "\n",
    "# separate stemmed X and y\n",
    "X_twitter_stem = sample_twitter_stem[\"text\"]\n",
    "y_twitter_stem = sample_twitter_stem[\"label\"]"
   ]
  },
  {
   "source": [
    "### Combined Data"
   ],
   "cell_type": "markdown",
   "metadata": {}
  },
  {
   "cell_type": "code",
   "execution_count": 6,
   "metadata": {},
   "outputs": [],
   "source": [
    "# social media\n",
    "# combine lemmatized data\n",
    "sample_socialmedia_lemmatize = pd.concat([sample_reddit_lemmatize[[\"text\", \"label\"]], sample_twitter_lemmatize])\n",
    "\n",
    "# combine stemmed data\n",
    "sample_socialmedia_stem = pd.concat([sample_reddit_stem[[\"text\", \"label\"]], sample_twitter_stem])\n",
    "\n",
    "# separate lemmatized X and y\n",
    "X_socialmedia_lemmatize = sample_socialmedia_lemmatize[\"text\"]\n",
    "y_socialmedia_lemmatize = sample_socialmedia_lemmatize[\"label\"]\n",
    "\n",
    "# separate stemmed X and y\n",
    "X_socialmedia_stem = sample_socialmedia_stem[\"text\"]\n",
    "y_socialmedia_stem = sample_socialmedia_stem[\"label\"]"
   ]
  },
  {
   "cell_type": "code",
   "execution_count": 7,
   "metadata": {},
   "outputs": [],
   "source": [
    "# all\n",
    "# combine lemmatized data\n",
    "sample_all_lemmatize = pd.concat([sample_crypto_lemmatize_text[[\"text\", \"label\"]], sample_reddit_lemmatize[[\"text\", \"label\"]], sample_twitter_lemmatize])\n",
    "\n",
    "# combine stemmed data\n",
    "sample_all_stem = pd.concat([sample_crypto_stem_text[[\"text\", \"label\"]], sample_reddit_stem[[\"text\", \"label\"]], sample_twitter_stem])\n",
    "\n",
    "# separate lemmatized X and y\n",
    "X_all_lemmatize = sample_all_lemmatize[\"text\"]\n",
    "y_all_lemmatize = sample_all_lemmatize[\"label\"]\n",
    "\n",
    "# separate stemmed X and y\n",
    "X_all_stem = sample_all_stem[\"text\"]\n",
    "y_all_stem = sample_all_stem[\"label\"]"
   ]
  },
  {
   "source": [
    "## Train-Test Split\n",
    "### Conventional and Cryptonews Data"
   ],
   "cell_type": "markdown",
   "metadata": {}
  },
  {
   "cell_type": "code",
   "execution_count": 8,
   "metadata": {},
   "outputs": [],
   "source": [
    "# split train-test (lemmatize, title/text)\n",
    "X_crypto_lemmatize_text_train_init, X_crypto_lemmatize_text_test_init, y_crypto_lemmatize_text_train, y_crypto_lemmatize_text_test = train_test_split(X_crypto_lemmatize_text, y_crypto_lemmatize_text, test_size=0.2, random_state=123)\n",
    "X_crypto_lemmatize_title_train = X_crypto_lemmatize_text_train_init[\"title\"]\n",
    "X_crypto_lemmatize_text_train = X_crypto_lemmatize_text_train_init[\"text\"]\n",
    "X_crypto_lemmatize_title_test = X_crypto_lemmatize_text_test_init[\"title\"]\n",
    "X_crypto_lemmatize_text_test = X_crypto_lemmatize_text_test_init[\"text\"]\n",
    "\n",
    "# split train-test (lemmatize, excerpt)\n",
    "X_crypto_lemmatize_excerpt_train, X_crypto_lemmatize_excerpt_test, y_crypto_lemmatize_excerpt_train, y_crypto_lemmatize_excerpt_test = train_test_split(X_crypto_lemmatize_excerpt, y_crypto_lemmatize_excerpt, test_size=0.2, random_state=123)\n",
    "\n",
    "# split train-test (stem, title/text)\n",
    "X_crypto_stem_text_train_init, X_crypto_stem_text_test_init, y_crypto_stem_text_train, y_crypto_stem_text_test = train_test_split(X_crypto_stem_text, y_crypto_stem_text, test_size=0.2, random_state=123)\n",
    "X_crypto_stem_title_train = X_crypto_stem_text_train_init[\"title\"]\n",
    "X_crypto_stem_text_train = X_crypto_stem_text_train_init[\"text\"]\n",
    "X_crypto_stem_title_test = X_crypto_stem_text_test_init[\"title\"]\n",
    "X_crypto_stem_text_test = X_crypto_stem_text_test_init[\"text\"]\n",
    "\n",
    "# split train-test (stem, excerpt)\n",
    "X_crypto_stem_excerpt_train, X_crypto_stem_excerpt_test, y_crypto_stem_excerpt_train, y_crypto_stem_excerpt_test = train_test_split(X_crypto_stem_excerpt, y_crypto_stem_excerpt, test_size=0.2, random_state=123)"
   ]
  },
  {
   "source": [
    "### Reddit Data"
   ],
   "cell_type": "markdown",
   "metadata": {}
  },
  {
   "cell_type": "code",
   "execution_count": 9,
   "metadata": {},
   "outputs": [],
   "source": [
    "# split train-test (lemmatize)\n",
    "X_reddit_lemmatize_train, X_reddit_lemmatize_test, y_reddit_lemmatize_train, y_reddit_lemmatize_test = train_test_split(X_reddit_lemmatize, y_reddit_lemmatize, test_size=0.2, random_state=123)\n",
    "\n",
    "# split train-test (stem)\n",
    "X_reddit_stem_train, X_reddit_stem_test, y_reddit_stem_train, y_reddit_stem_test = train_test_split(X_reddit_stem, y_reddit_stem, test_size=0.2, random_state=123)"
   ]
  },
  {
   "source": [
    "### Twitter Data"
   ],
   "cell_type": "markdown",
   "metadata": {}
  },
  {
   "cell_type": "code",
   "execution_count": 10,
   "metadata": {},
   "outputs": [],
   "source": [
    "# split train-test (lemmatize)\n",
    "X_twitter_lemmatize_train, X_twitter_lemmatize_test, y_twitter_lemmatize_train, y_twitter_lemmatize_test = train_test_split(X_twitter_lemmatize, y_twitter_lemmatize, test_size=0.2, random_state=123)\n",
    "\n",
    "# split train-test (stem)\n",
    "X_twitter_stem_train, X_twitter_stem_test, y_twitter_stem_train, y_twitter_stem_test = train_test_split(X_twitter_stem, y_twitter_stem, test_size=0.2, random_state=123)"
   ]
  },
  {
   "source": [
    "### Combined Data"
   ],
   "cell_type": "markdown",
   "metadata": {}
  },
  {
   "cell_type": "code",
   "execution_count": 11,
   "metadata": {},
   "outputs": [],
   "source": [
    "# social media\n",
    "# split train-test (lemmatize)\n",
    "X_socialmedia_lemmatize_train, X_socialmedia_lemmatize_test, y_socialmedia_lemmatize_train, y_socialmedia_lemmatize_test = train_test_split(X_socialmedia_lemmatize, y_socialmedia_lemmatize, test_size=0.2, random_state=123)\n",
    "\n",
    "# split train-test (stem)\n",
    "X_socialmedia_stem_train, X_socialmedia_stem_test, y_socialmedia_stem_train, y_socialmedia_stem_test = train_test_split(X_socialmedia_stem, y_socialmedia_stem, test_size=0.2, random_state=123)"
   ]
  },
  {
   "cell_type": "code",
   "execution_count": 12,
   "metadata": {},
   "outputs": [],
   "source": [
    "# all\n",
    "# split train-test (lemmatize)\n",
    "X_all_lemmatize_train, X_all_lemmatize_test, y_all_lemmatize_train, y_all_lemmatize_test = train_test_split(X_all_lemmatize, y_all_lemmatize, test_size=0.2, random_state=123)\n",
    "\n",
    "# split train-test (stem)\n",
    "X_all_stem_train, X_all_stem_test, y_all_stem_train, y_all_stem_test = train_test_split(X_all_stem, y_all_stem, test_size=0.2, random_state=123)"
   ]
  },
  {
   "source": [
    "## Formatting and Saving Data (Part 1: Full Train and Test Data)"
   ],
   "cell_type": "markdown",
   "metadata": {}
  },
  {
   "cell_type": "code",
   "execution_count": 13,
   "metadata": {},
   "outputs": [],
   "source": [
    "def format_data(texts, labels):\n",
    "    '''\n",
    "    Accepts a series of texts and labels and outputs the formatted data for fasttext model\n",
    "    '''\n",
    "    formatted_data = []\n",
    "\n",
    "    for i in range(len(texts)):\n",
    "        current_row = []\n",
    "\n",
    "        # prepare label\n",
    "        current_row.append(\"__label__\" + str(list(labels)[i]))\n",
    "\n",
    "        # prepare text\n",
    "        current_row.extend(nltk.word_tokenize(list(texts)[i]))\n",
    "\n",
    "        # add to output\n",
    "        formatted_data.append(current_row)\n",
    "    \n",
    "    return pd.Series(formatted_data)"
   ]
  },
  {
   "cell_type": "code",
   "execution_count": 14,
   "metadata": {},
   "outputs": [],
   "source": [
    "def save_train_data(text_list, label_list, filename_list):\n",
    "    '''\n",
    "    Accepts a list of texts, labels and filenames and saves the data into .txt file for each corresponding text, label and filename\n",
    "    '''\n",
    "    for i in range(len(filename_list)):\n",
    "        # format data\n",
    "        formatted_data = format_data(text_list[i], label_list[i])\n",
    "\n",
    "        # save data\n",
    "        filename = filename_list[i]\n",
    "        with open(filename, \"w\") as csvoutfile:\n",
    "            csv_writer = csv.writer(csvoutfile, delimiter=' ', lineterminator='\\n')\n",
    "            for row in formatted_data:\n",
    "                csv_writer.writerow(row)\n",
    "\n",
    "def save_test_data(text_list, label_list, filename_list):\n",
    "    '''\n",
    "    Accepts a list of texts, labels and filenames and saves the data into a .csv file for reading later\n",
    "    '''\n",
    "    for i in range(len(filename_list)):\n",
    "        save_df = pd.concat([text_list[i], label_list[i]], axis=1)\n",
    "        save_df = save_df.reset_index(drop=True) # reset index\n",
    "        save_df.to_csv(filename_list[i], index=False) # save to csv"
   ]
  },
  {
   "cell_type": "code",
   "execution_count": 15,
   "metadata": {},
   "outputs": [],
   "source": [
    "# instantiate postfix (common to all train, test, validation sets)\n",
    "filename = [\"sample_crypto_lemmatize_title\", \"sample_crypto_lemmatize_excerpt\", \"sample_crypto_lemmatize_text\", \"sample_crypto_stem_title\", \"sample_crypto_stem_excerpt\", \"sample_crypto_stem_text\", \"sample_reddit_lemmatize\", \"sample_reddit_stem\", \"sample_twitter_lemmatize\", \"sample_twitter_stem\", \"sample_socialmedia_lemmatize\", \"sample_socialmedia_stem\", \"sample_all_lemmatize\", \"sample_all_stem\"]"
   ]
  },
  {
   "cell_type": "code",
   "execution_count": 16,
   "metadata": {},
   "outputs": [],
   "source": [
    "# save training data as .txt for fasttext model input\n",
    "# set text and label data\n",
    "train_text_list_full = [X_crypto_lemmatize_title_train, X_crypto_lemmatize_excerpt_train, X_crypto_lemmatize_text_train, X_crypto_stem_title_train, X_crypto_stem_excerpt_train, X_crypto_stem_text_train, X_reddit_lemmatize_train, X_reddit_stem_train, X_twitter_lemmatize_train, X_twitter_stem_train, X_socialmedia_lemmatize_train, X_socialmedia_stem_train, X_all_lemmatize_train, X_all_stem_train]\n",
    "\n",
    "train_label_list_full = [y_crypto_lemmatize_text_train, y_crypto_lemmatize_excerpt_train, y_crypto_lemmatize_text_train, y_crypto_stem_text_train, y_crypto_stem_excerpt_train, y_crypto_stem_text_train, y_reddit_lemmatize_train, y_reddit_stem_train, y_twitter_lemmatize_train, y_twitter_stem_train, y_socialmedia_lemmatize_train, y_socialmedia_stem_train, y_all_lemmatize_train, y_all_stem_train]\n",
    "\n",
    "# set filenames\n",
    "train_filename_prefix = \"data/fasttext_unsorted/train_all/\"\n",
    "train_filename_postfix = \".txt\"\n",
    "train_filename_list = [train_filename_prefix + filename[i] + train_filename_postfix for i in range(len(filename))]\n",
    "\n",
    "# save data\n",
    "save_train_data(text_list=train_text_list_full, label_list=train_label_list_full, filename_list=train_filename_list)"
   ]
  },
  {
   "cell_type": "code",
   "execution_count": 17,
   "metadata": {},
   "outputs": [],
   "source": [
    "# save testing data as .csv\n",
    "# set text and label data\n",
    "test_text_list = [X_crypto_lemmatize_title_test, X_crypto_lemmatize_excerpt_test, X_crypto_lemmatize_text_test, X_crypto_stem_title_test, X_crypto_stem_excerpt_test, X_crypto_stem_text_test, X_reddit_lemmatize_test, X_reddit_stem_test, X_twitter_lemmatize_test, X_twitter_stem_test, X_socialmedia_lemmatize_test, X_socialmedia_stem_test, X_all_lemmatize_test, X_all_stem_test]\n",
    "\n",
    "test_label_list = [y_crypto_lemmatize_text_test, y_crypto_lemmatize_excerpt_test, y_crypto_lemmatize_text_test, y_crypto_stem_text_test, y_crypto_stem_excerpt_test, y_crypto_stem_text_test, y_reddit_lemmatize_test, y_reddit_stem_test, y_twitter_lemmatize_test, y_twitter_stem_test, y_socialmedia_lemmatize_test, y_socialmedia_stem_test, y_all_lemmatize_test, y_all_stem_test]\n",
    "\n",
    "# set filenames\n",
    "test_filename_prefix = \"data/fasttext_unsorted/test/\"\n",
    "test_filename_postfix = \".csv\"\n",
    "test_filename_list = [test_filename_prefix + filename[i] + test_filename_postfix for i in range(len(filename))]\n",
    "\n",
    "save_test_data(text_list=test_text_list, label_list=test_label_list, filename_list=test_filename_list)"
   ]
  },
  {
   "source": [
    "## Train-Validation Split\n",
    "### Conventional and Cryptonews Data"
   ],
   "cell_type": "markdown",
   "metadata": {}
  },
  {
   "cell_type": "code",
   "execution_count": 18,
   "metadata": {},
   "outputs": [],
   "source": [
    "# split train-validation (lemmatize, title/text)\n",
    "X_crypto_lemmatize_text_train, X_crypto_lemmatize_text_val, y_crypto_lemmatize_text_train, y_crypto_lemmatize_text_val = train_test_split(X_crypto_lemmatize_text_train_init, y_crypto_lemmatize_text_train, test_size=0.25, random_state=123)\n",
    "X_crypto_lemmatize_title_train = X_crypto_lemmatize_text_train[\"title\"]\n",
    "X_crypto_lemmatize_text_train = X_crypto_lemmatize_text_train[\"text\"]\n",
    "X_crypto_lemmatize_title_val = X_crypto_lemmatize_text_val[\"title\"]\n",
    "X_crypto_lemmatize_text_val = X_crypto_lemmatize_text_val[\"text\"]\n",
    "\n",
    "# split train-validation (lemmatize, excerpt)\n",
    "X_crypto_lemmatize_excerpt_train, X_crypto_lemmatize_excerpt_val, y_crypto_lemmatize_excerpt_train, y_crypto_lemmatize_excerpt_val = train_test_split(X_crypto_lemmatize_excerpt_train, y_crypto_lemmatize_excerpt_train, test_size=0.25, random_state=123)\n",
    "\n",
    "# split train-validation (stem, title/text)\n",
    "X_crypto_stem_text_train, X_crypto_stem_text_val, y_crypto_stem_text_train, y_crypto_stem_text_val = train_test_split(X_crypto_stem_text_train_init, y_crypto_stem_text_train, test_size=0.25, random_state=123)\n",
    "X_crypto_stem_title_train = X_crypto_stem_text_train[\"title\"]\n",
    "X_crypto_stem_text_train = X_crypto_stem_text_train[\"text\"]\n",
    "X_crypto_stem_title_val = X_crypto_stem_text_val[\"title\"]\n",
    "X_crypto_stem_text_val = X_crypto_stem_text_val[\"text\"]\n",
    "\n",
    "# split train-validation (stem, excerpt)\n",
    "X_crypto_stem_excerpt_train, X_crypto_stem_excerpt_val, y_crypto_stem_excerpt_train, y_crypto_stem_excerpt_val = train_test_split(X_crypto_stem_excerpt_train, y_crypto_stem_excerpt_train, test_size=0.25, random_state=123)"
   ]
  },
  {
   "source": [
    "### Reddit Data"
   ],
   "cell_type": "markdown",
   "metadata": {}
  },
  {
   "cell_type": "code",
   "execution_count": 19,
   "metadata": {},
   "outputs": [],
   "source": [
    "# split train-validation (lemmatize)\n",
    "X_reddit_lemmatize_train, X_reddit_lemmatize_val, y_reddit_lemmatize_train, y_reddit_lemmatize_val = train_test_split(X_reddit_lemmatize_train, y_reddit_lemmatize_train, test_size=0.25, random_state=123)\n",
    "\n",
    "# split train-validation (stem)\n",
    "X_reddit_stem_train, X_reddit_stem_val, y_reddit_stem_train, y_reddit_stem_val = train_test_split(X_reddit_stem_train, y_reddit_stem_train, test_size=0.25, random_state=123)"
   ]
  },
  {
   "source": [
    "### Twitter Data"
   ],
   "cell_type": "markdown",
   "metadata": {}
  },
  {
   "cell_type": "code",
   "execution_count": 20,
   "metadata": {},
   "outputs": [],
   "source": [
    "# split train-validation (lemmatize)\n",
    "X_twitter_lemmatize_train, X_twitter_lemmatize_val, y_twitter_lemmatize_train, y_twitter_lemmatize_val = train_test_split(X_twitter_lemmatize_train, y_twitter_lemmatize_train, test_size=0.25, random_state=123)\n",
    "\n",
    "# split train-validation (stem)\n",
    "X_twitter_stem_train, X_twitter_stem_val, y_twitter_stem_train, y_twitter_stem_val = train_test_split(X_twitter_stem_train, y_twitter_stem_train, test_size=0.25, random_state=123)"
   ]
  },
  {
   "source": [
    "### Combined Data"
   ],
   "cell_type": "markdown",
   "metadata": {}
  },
  {
   "cell_type": "code",
   "execution_count": 21,
   "metadata": {},
   "outputs": [],
   "source": [
    "# social media\n",
    "# split train-validation (lemmatize)\n",
    "X_socialmedia_lemmatize_train, X_socialmedia_lemmatize_val, y_socialmedia_lemmatize_train, y_socialmedia_lemmatize_val = train_test_split(X_socialmedia_lemmatize_train, y_socialmedia_lemmatize_train, test_size=0.25, random_state=123)\n",
    "\n",
    "# split train-validation (stem)\n",
    "X_socialmedia_stem_train, X_socialmedia_stem_val, y_socialmedia_stem_train, y_socialmedia_stem_val = train_test_split(X_socialmedia_stem_train, y_socialmedia_stem_train, test_size=0.25, random_state=123)"
   ]
  },
  {
   "cell_type": "code",
   "execution_count": 22,
   "metadata": {},
   "outputs": [],
   "source": [
    "# all\n",
    "# split train-validation (lemmatize)\n",
    "X_all_lemmatize_train, X_all_lemmatize_val, y_all_lemmatize_train, y_all_lemmatize_val = train_test_split(X_all_lemmatize_train, y_all_lemmatize_train, test_size=0.25, random_state=123)\n",
    "\n",
    "# split train-validation (stem)\n",
    "X_all_stem_train, X_all_stem_val, y_all_stem_train, y_all_stem_val = train_test_split(X_all_stem_train, y_all_stem_train, test_size=0.25, random_state=123)"
   ]
  },
  {
   "source": [
    "## Formatting and Saving Data (Part 2: Train and Validation Data)"
   ],
   "cell_type": "markdown",
   "metadata": {}
  },
  {
   "cell_type": "code",
   "execution_count": 23,
   "metadata": {},
   "outputs": [],
   "source": [
    "# save training data as .txt for fasttext model input\n",
    "# set text and label data\n",
    "train_text_list = [X_crypto_lemmatize_title_train, X_crypto_lemmatize_excerpt_train, X_crypto_lemmatize_text_train, X_crypto_stem_title_train, X_crypto_stem_excerpt_train, X_crypto_stem_text_train, X_reddit_lemmatize_train, X_reddit_stem_train, X_twitter_lemmatize_train, X_twitter_stem_train, X_socialmedia_lemmatize_train, X_socialmedia_stem_train, X_all_lemmatize_train, X_all_stem_train]\n",
    "\n",
    "train_label_list = [y_crypto_lemmatize_text_train, y_crypto_lemmatize_excerpt_train, y_crypto_lemmatize_text_train, y_crypto_stem_text_train, y_crypto_stem_excerpt_train, y_crypto_stem_text_train, y_reddit_lemmatize_train, y_reddit_stem_train, y_twitter_lemmatize_train, y_twitter_stem_train, y_socialmedia_lemmatize_train, y_socialmedia_stem_train, y_all_lemmatize_train, y_all_stem_train]\n",
    "\n",
    "# set filenames\n",
    "train_filename_prefix = \"data/fasttext_unsorted/train/\"\n",
    "train_filename_postfix = \".txt\"\n",
    "train_filename_list = [train_filename_prefix + filename[i] + train_filename_postfix for i in range(len(filename))]\n",
    "\n",
    "# save data\n",
    "save_train_data(text_list=train_text_list, label_list=train_label_list, filename_list=train_filename_list)"
   ]
  },
  {
   "cell_type": "code",
   "execution_count": 24,
   "metadata": {},
   "outputs": [],
   "source": [
    "# save validation data as .csv\n",
    "# set text and label data\n",
    "validation_text_list = [X_crypto_lemmatize_title_val, X_crypto_lemmatize_excerpt_val, X_crypto_lemmatize_text_val, X_crypto_stem_title_val, X_crypto_stem_excerpt_val, X_crypto_stem_text_val, X_reddit_lemmatize_val, X_reddit_stem_val, X_twitter_lemmatize_val, X_twitter_stem_val, X_socialmedia_lemmatize_val, X_socialmedia_stem_val, X_all_lemmatize_val, X_all_stem_val]\n",
    "\n",
    "validation_label_list = [y_crypto_lemmatize_text_val, y_crypto_lemmatize_excerpt_val, y_crypto_lemmatize_text_val, y_crypto_stem_text_val, y_crypto_stem_excerpt_val, y_crypto_stem_text_val, y_reddit_lemmatize_test, y_reddit_stem_val, y_twitter_lemmatize_val, y_twitter_stem_val, y_socialmedia_lemmatize_val, y_socialmedia_stem_val, y_all_lemmatize_val, y_all_stem_val]\n",
    "\n",
    "# set filenames\n",
    "validation_filename_prefix = \"data/fasttext_unsorted/validation/\"\n",
    "validation_filename_postfix = \".csv\"\n",
    "validation_filename_list = [validation_filename_prefix + filename[i] + validation_filename_postfix for i in range(len(filename))]\n",
    "\n",
    "\n",
    "save_test_data(text_list=validation_text_list, label_list=validation_label_list, filename_list=validation_filename_list)"
   ]
  }
 ]
}