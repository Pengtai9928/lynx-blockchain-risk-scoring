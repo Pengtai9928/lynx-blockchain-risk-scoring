{
 "metadata": {
  "language_info": {
   "codemirror_mode": {
    "name": "ipython",
    "version": 3
   },
   "file_extension": ".py",
   "mimetype": "text/x-python",
   "name": "python",
   "nbconvert_exporter": "python",
   "pygments_lexer": "ipython3",
   "version": "3.8.5-final"
  },
  "orig_nbformat": 2,
  "kernelspec": {
   "name": "python_defaultSpec_1600266114458",
   "display_name": "Python 3.8.5 64-bit ('lynx': conda)"
  }
 },
 "nbformat": 4,
 "nbformat_minor": 2,
 "cells": [
  {
   "source": [
    "# FastText Sentiment Analysis Model"
   ],
   "cell_type": "markdown",
   "metadata": {}
  },
  {
   "cell_type": "code",
   "execution_count": 1,
   "metadata": {},
   "outputs": [],
   "source": [
    "# read and pre-process data\n",
    "import pandas as pd\n",
    "# import string\n",
    "# import nltk\n",
    "# from nltk.stem import WordNetLemmatizer # word lemmatizer\n",
    "# from nltk.stem.snowball import SnowballStemmer\n",
    "# from nltk.corpus import stopwords # stopwords\n",
    "\n",
    "# # format data\n",
    "# from sklearn.model_selection import train_test_split # train test split\n",
    "# import csv\n",
    "\n",
    "# modelling\n",
    "import io # to generate pre-trained vector\n",
    "import fasttext\n",
    "\n",
    "# evaluation metrics\n",
    "from sklearn.metrics import f1_score, precision_score, recall_score"
   ]
  },
  {
   "source": [
    "## Data Pre-Processing"
   ],
   "cell_type": "markdown",
   "metadata": {}
  },
  {
   "cell_type": "code",
   "execution_count": 2,
   "metadata": {},
   "outputs": [],
   "source": [
    "def pre_processing(text, lemmatize=True, stem=False):\n",
    "    # strip accents\n",
    "    text = text.encode('ascii', 'ignore')\n",
    "    text = str(text.decode(\"utf-8\"))\n",
    "\n",
    "    # covert to lowercase\n",
    "    text = text.lower()\n",
    "\n",
    "    # remove punctuation\n",
    "    text = text.translate(str.maketrans(string.punctuation, ' '*len(string.punctuation)))\n",
    "\n",
    "    # remove unnecessary white spaces\n",
    "    text = text.replace(\"\\n\", \"\")\n",
    "\n",
    "    # tokenize\n",
    "    text_words = nltk.word_tokenize(text)\n",
    "\n",
    "    # lemmatize\n",
    "    if lemmatize:\n",
    "        wordnet_lemmatizer = WordNetLemmatizer()\n",
    "        text_words = [wordnet_lemmatizer.lemmatize(x, pos=\"v\") for x in text_words]\n",
    "\n",
    "    # stem\n",
    "    if stem:\n",
    "        stemmer = SnowballStemmer(\"english\")\n",
    "        text_words = [stemmer.stem(x) for x in text_words]\n",
    "\n",
    "    # remove stop words\n",
    "    stop = list(stopwords.words('english'))\n",
    "    keep_stopwords = [\"no\", \"not\", \"nor\"]\n",
    "    for word in keep_stopwords:\n",
    "        stop.remove(word)\n",
    "        stop = set(stop)\n",
    "    text_words = [x for x in text_words if not x in stop]\n",
    "\n",
    "    return ' '.join(text_words)"
   ]
  },
  {
   "source": [
    "### Conventional and Cryptonews Data"
   ],
   "cell_type": "markdown",
   "metadata": {}
  },
  {
   "cell_type": "code",
   "execution_count": 3,
   "metadata": {},
   "outputs": [],
   "source": [
    "# load data\n",
    "sample_crypto = pd.read_csv(\"data/sample_crypto.csv\", header=0)\n",
    "\n",
    "# combine title and excerpt\n",
    "sample_crypto[\"text\"] = sample_crypto[\"title\"].fillna('') + \" \" + sample_crypto[\"excerpt\"].fillna('')\n",
    "\n",
    "# sample text\n",
    "sample_crypto_text = sample_crypto[[\"title\", \"text\", \"label\"]]\n",
    "sample_crypto_excerpt = sample_crypto[[\"excerpt\", \"label\"]]\n",
    "sample_crypto_excerpt = sample_crypto_excerpt.dropna(subset=[\"excerpt\"])\n",
    "\n",
    "# sample with lemmatized words\n",
    "sample_crypto_lemmatize_text = sample_crypto_text.copy()\n",
    "sample_crypto_lemmatize_text[\"title\"] = sample_crypto_lemmatize_text[\"title\"].apply(lambda x: pre_processing(x, lemmatize=True, stem=False))\n",
    "sample_crypto_lemmatize_text[\"text\"] = sample_crypto_lemmatize_text[\"text\"].apply(lambda x: pre_processing(x, lemmatize=True, stem=False))\n",
    "sample_crypto_lemmatize_excerpt = sample_crypto_excerpt.copy()\n",
    "sample_crypto_lemmatize_excerpt[\"excerpt\"] = sample_crypto_lemmatize_excerpt[\"excerpt\"].apply(lambda x: pre_processing(x, lemmatize=True, stem=False))\n",
    "\n",
    "# sample with stemmed words\n",
    "sample_crypto_stem_text = sample_crypto_text.copy()\n",
    "sample_crypto_stem_text[\"title\"] = sample_crypto_stem_text[\"title\"].apply(lambda x: pre_processing(x, lemmatize=False, stem=True))\n",
    "sample_crypto_stem_text[\"text\"] = sample_crypto_stem_text[\"text\"].apply(lambda x: pre_processing(x, lemmatize=True, stem=False))\n",
    "sample_crypto_stem_excerpt = sample_crypto_excerpt.copy()\n",
    "sample_crypto_stem_excerpt[\"excerpt\"] = sample_crypto_stem_excerpt[\"excerpt\"].apply(lambda x: pre_processing(x, lemmatize=False, stem=True))\n",
    "\n",
    "# separate lemmatized X and y\n",
    "X_crypto_lemmatize_text = sample_crypto_lemmatize_text[[\"title\", \"text\"]]\n",
    "y_crypto_lemmatize_text = sample_crypto_lemmatize_text[\"label\"]\n",
    "X_crypto_lemmatize_excerpt = sample_crypto_lemmatize_excerpt[\"excerpt\"]\n",
    "y_crypto_lemmatize_excerpt = sample_crypto_lemmatize_excerpt[\"label\"]\n",
    "\n",
    "# separate stemmed X and y\n",
    "X_crypto_stem_text = sample_crypto_stem_text[[\"title\", \"text\"]]\n",
    "y_crypto_stem_text = sample_crypto_stem_text[\"label\"]\n",
    "X_crypto_stem_excerpt = sample_crypto_stem_excerpt[\"excerpt\"]\n",
    "y_crypto_stem_excerpt = sample_crypto_stem_excerpt[\"label\"]"
   ]
  },
  {
   "source": [
    "### Reddit Data"
   ],
   "cell_type": "markdown",
   "metadata": {}
  },
  {
   "cell_type": "code",
   "execution_count": 4,
   "metadata": {},
   "outputs": [],
   "source": [
    "sample_reddit = pd.read_csv(\"data/sample_reddit.csv\", header=0)[[\"title\", \"excerpt\", \"label\"]]\n",
    "\n",
    "# combine title and excerpt (if any)\n",
    "sample_reddit[\"text\"] = sample_reddit[\"title\"].fillna('') + \" \" + sample_reddit[\"excerpt\"].fillna('')\n",
    "\n",
    "# sample with lemmatized words\n",
    "sample_reddit_lemmatize = sample_reddit.copy()\n",
    "sample_reddit_lemmatize[\"text\"] = sample_reddit_lemmatize[\"text\"].apply(lambda x: pre_processing(x, lemmatize=True, stem=False))\n",
    "\n",
    "# sample with stemmed words\n",
    "sample_reddit_stem = sample_reddit.copy()\n",
    "sample_reddit_stem[\"text\"] = sample_reddit_stem[\"text\"].apply(lambda x: pre_processing(x, lemmatize=False, stem=True))\n",
    "\n",
    "# separate lemmatized X and y\n",
    "X_reddit_lemmatize = sample_reddit_lemmatize[\"text\"]\n",
    "y_reddit_lemmatize = sample_reddit_lemmatize[\"label\"]\n",
    "\n",
    "# separate stemmed X and y\n",
    "X_reddit_stem = sample_reddit_stem[\"text\"]\n",
    "y_reddit_stem = sample_reddit_stem[\"label\"]"
   ]
  },
  {
   "source": [
    "### Twitter Data"
   ],
   "cell_type": "markdown",
   "metadata": {}
  },
  {
   "cell_type": "code",
   "execution_count": 5,
   "metadata": {},
   "outputs": [],
   "source": [
    "sample_twitter = pd.read_csv(\"data/sample_twitter.csv\", header=0)[[\"text\", \"label\"]]\n",
    "\n",
    "# remove any whitespaces in text\n",
    "sample_twitter[\"text\"] = sample_twitter[\"text\"].apply(lambda x: x.replace(\"\\n\",\"\"))\n",
    "\n",
    "# sample with lemmatized words\n",
    "sample_twitter_lemmatize = sample_twitter.copy()\n",
    "sample_twitter_lemmatize[\"text\"] = sample_twitter_lemmatize[\"text\"].apply(lambda x: pre_processing(x, lemmatize=True, stem=False))\n",
    "\n",
    "# sample with stemmed words\n",
    "sample_twitter_stem = sample_twitter.copy()\n",
    "sample_twitter_stem[\"text\"] = sample_twitter_stem[\"text\"].apply(lambda x: pre_processing(x, lemmatize=False, stem=True))\n",
    "\n",
    "# separate lemmatized X and y\n",
    "X_twitter_lemmatize = sample_twitter_lemmatize[\"text\"]\n",
    "y_twitter_lemmatize = sample_twitter_lemmatize[\"label\"]\n",
    "\n",
    "# separate stemmed X and y\n",
    "X_twitter_stem = sample_twitter_stem[\"text\"]\n",
    "y_twitter_stem = sample_twitter_stem[\"label\"]"
   ]
  },
  {
   "source": [
    "### Combined Data"
   ],
   "cell_type": "markdown",
   "metadata": {}
  },
  {
   "cell_type": "code",
   "execution_count": 6,
   "metadata": {},
   "outputs": [],
   "source": [
    "# combine lemmatized data\n",
    "sample_socialmedia_lemmatize = pd.concat([sample_reddit_lemmatize[[\"text\", \"label\"]], sample_twitter_lemmatize])\n",
    "\n",
    "# combine stemmed data\n",
    "sample_socialmedia_stem = pd.concat([sample_reddit_stem[[\"text\", \"label\"]], sample_twitter_stem])\n",
    "\n",
    "# separate lemmatized X and y\n",
    "X_socialmedia_lemmatize = sample_socialmedia_lemmatize[\"text\"]\n",
    "y_socialmedia_lemmatize = sample_socialmedia_lemmatize[\"label\"]\n",
    "\n",
    "# separate stemmed X and y\n",
    "X_socialmedia_stem = sample_socialmedia_stem[\"text\"]\n",
    "y_socialmedia_stem = sample_socialmedia_stem[\"label\"]"
   ]
  },
  {
   "cell_type": "code",
   "execution_count": 7,
   "metadata": {},
   "outputs": [],
   "source": [
    "# combine lemmatized data\n",
    "sample_all_lemmatize = pd.concat([sample_crypto_lemmatize_text[[\"text\", \"label\"]], sample_reddit_lemmatize[[\"text\", \"label\"]], sample_twitter_lemmatize])\n",
    "\n",
    "# combine stemmed data\n",
    "sample_all_stem = pd.concat([sample_crypto_stem_text[[\"text\", \"label\"]], sample_reddit_stem[[\"text\", \"label\"]], sample_twitter_stem])\n",
    "\n",
    "# separate lemmatized X and y\n",
    "X_all_lemmatize = sample_all_lemmatize[\"text\"]\n",
    "y_all_lemmatize = sample_all_lemmatize[\"label\"]\n",
    "\n",
    "# separate stemmed X and y\n",
    "X_all_stem = sample_all_stem[\"text\"]\n",
    "y_all_stem = sample_all_stem[\"label\"]"
   ]
  },
  {
   "source": [
    "## Train-Test Split\n",
    "### Conventional and Cryptonews Data"
   ],
   "cell_type": "markdown",
   "metadata": {}
  },
  {
   "cell_type": "code",
   "execution_count": 8,
   "metadata": {},
   "outputs": [],
   "source": [
    "# split train-test-validation (lemmatize, title/text)\n",
    "X_crypto_lemmatize_text_train_init, X_crypto_lemmatize_text_test_init, y_crypto_lemmatize_text_train, y_crypto_lemmatize_text_test = train_test_split(X_crypto_lemmatize_text, y_crypto_lemmatize_text, test_size=0.2, random_state=123)\n",
    "X_crypto_lemmatize_title_train = X_crypto_lemmatize_text_train_init[\"title\"]\n",
    "X_crypto_lemmatize_text_train = X_crypto_lemmatize_text_train_init[\"text\"]\n",
    "X_crypto_lemmatize_title_test = X_crypto_lemmatize_text_test_init[\"title\"]\n",
    "X_crypto_lemmatize_text_test = X_crypto_lemmatize_text_test_init[\"text\"]\n",
    "\n",
    "# split train-test-validation (lemmatize, excerpt)\n",
    "X_crypto_lemmatize_excerpt_train, X_crypto_lemmatize_excerpt_test, y_crypto_lemmatize_excerpt_train, y_crypto_lemmatize_excerpt_test = train_test_split(X_crypto_lemmatize_excerpt, y_crypto_lemmatize_excerpt, test_size=0.2, random_state=123)\n",
    "\n",
    "# split train-test-validation (stem, title/text)\n",
    "X_crypto_stem_text_train_init, X_crypto_stem_text_test_init, y_crypto_stem_text_train, y_crypto_stem_text_test = train_test_split(X_crypto_stem_text, y_crypto_stem_text, test_size=0.2, random_state=123)\n",
    "X_crypto_stem_title_train = X_crypto_stem_text_train_init[\"title\"]\n",
    "X_crypto_stem_text_train = X_crypto_stem_text_train_init[\"text\"]\n",
    "X_crypto_stem_title_test = X_crypto_stem_text_test_init[\"title\"]\n",
    "X_crypto_stem_text_test = X_crypto_stem_text_test_init[\"text\"]\n",
    "\n",
    "# split train-test-validation (stem, excerpt)\n",
    "X_crypto_stem_excerpt_train, X_crypto_stem_excerpt_test, y_crypto_stem_excerpt_train, y_crypto_stem_excerpt_test = train_test_split(X_crypto_stem_excerpt, y_crypto_stem_excerpt, test_size=0.2, random_state=123)"
   ]
  },
  {
   "source": [
    "### Reddit Data"
   ],
   "cell_type": "markdown",
   "metadata": {}
  },
  {
   "cell_type": "code",
   "execution_count": 9,
   "metadata": {},
   "outputs": [],
   "source": [
    "# split train-test-validation (lemmatize)\n",
    "X_reddit_lemmatize_train, X_reddit_lemmatize_test, y_reddit_lemmatize_train, y_reddit_lemmatize_test = train_test_split(X_reddit_lemmatize, y_reddit_lemmatize, test_size=0.2, random_state=123)\n",
    "\n",
    "# split train-test-validation (stem)\n",
    "X_reddit_stem_train, X_reddit_stem_test, y_reddit_stem_train, y_reddit_stem_test = train_test_split(X_reddit_stem, y_reddit_stem, test_size=0.2, random_state=123)"
   ]
  },
  {
   "source": [
    "### Twitter Data"
   ],
   "cell_type": "markdown",
   "metadata": {}
  },
  {
   "cell_type": "code",
   "execution_count": 10,
   "metadata": {},
   "outputs": [],
   "source": [
    "# split train-test-validation (lemmatize)\n",
    "X_twitter_lemmatize_train, X_twitter_lemmatize_test, y_twitter_lemmatize_train, y_twitter_lemmatize_test = train_test_split(X_twitter_lemmatize, y_twitter_lemmatize, test_size=0.2, random_state=123)\n",
    "\n",
    "# split train-test-validation (stem)\n",
    "X_twitter_stem_train, X_twitter_stem_test, y_twitter_stem_train, y_twitter_stem_test = train_test_split(X_twitter_stem, y_twitter_stem, test_size=0.2, random_state=123)"
   ]
  },
  {
   "source": [
    "### Combined Data"
   ],
   "cell_type": "markdown",
   "metadata": {}
  },
  {
   "cell_type": "code",
   "execution_count": 11,
   "metadata": {},
   "outputs": [],
   "source": [
    "# split train-test-validation (lemmatize)\n",
    "X_socialmedia_lemmatize_train, X_socialmedia_lemmatize_test, y_socialmedia_lemmatize_train, y_socialmedia_lemmatize_test = train_test_split(X_socialmedia_lemmatize, y_socialmedia_lemmatize, test_size=0.2, random_state=123)\n",
    "\n",
    "# split train-test-validation (stem)\n",
    "X_socialmedia_stem_train, X_socialmedia_stem_test, y_socialmedia_stem_train, y_socialmedia_stem_test = train_test_split(X_socialmedia_stem, y_socialmedia_stem, test_size=0.2, random_state=123)"
   ]
  },
  {
   "source": [
    "## Formatting Data\n",
    "Prepare data in format required for fasttext model (only relevant to train data)"
   ],
   "cell_type": "markdown",
   "metadata": {}
  },
  {
   "source": [
    "## Train and Test Model (Default Parameters)\n",
    "Perform initial testing to see which model performs best (before hyperparameter tuning)"
   ],
   "cell_type": "markdown",
   "metadata": {}
  },
  {
   "source": [
    "## Hyperparameter Tuning on Best Model\n",
    "### Split Train Set into Train and Validation"
   ],
   "cell_type": "markdown",
   "metadata": {}
  }
 ]
}