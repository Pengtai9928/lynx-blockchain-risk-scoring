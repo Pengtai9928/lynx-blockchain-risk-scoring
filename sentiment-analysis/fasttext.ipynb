{
 "metadata": {
  "language_info": {
   "codemirror_mode": {
    "name": "ipython",
    "version": 3
   },
   "file_extension": ".py",
   "mimetype": "text/x-python",
   "name": "python",
   "nbconvert_exporter": "python",
   "pygments_lexer": "ipython3",
   "version": "3.8.5-final"
  },
  "orig_nbformat": 2,
  "kernelspec": {
   "name": "python_defaultSpec_1600266114458",
   "display_name": "Python 3.8.5 64-bit ('lynx': conda)"
  }
 },
 "nbformat": 4,
 "nbformat_minor": 2,
 "cells": [
  {
   "source": [
    "# FastText Sentiment Analysis Model"
   ],
   "cell_type": "markdown",
   "metadata": {}
  },
  {
   "cell_type": "code",
   "execution_count": 1,
   "metadata": {},
   "outputs": [],
   "source": [
    "# read and pre-process data\n",
    "import pandas as pd\n",
    "import string\n",
    "import nltk\n",
    "from nltk.stem import WordNetLemmatizer # word lemmatizer\n",
    "from nltk.stem.snowball import SnowballStemmer\n",
    "from nltk.corpus import stopwords # stopwords\n",
    "\n",
    "# format data\n",
    "import csv\n",
    "\n",
    "# modelling\n",
    "import io # to generate pre-trained vector\n",
    "import fasttext"
   ]
  },
  {
   "source": [
    "## Data Pre-Processing"
   ],
   "cell_type": "markdown",
   "metadata": {}
  },
  {
   "cell_type": "code",
   "execution_count": 2,
   "metadata": {},
   "outputs": [],
   "source": [
    "def pre_processing(text, lemmatize=True, stem=False):\n",
    "    # strip accents\\n\",\n",
    "    text = text.encode('ascii', 'ignore')\n",
    "    text = str(text.decode(\"utf-8\"))\n",
    "\n",
    "    # covert to lowercase\\n\",\n",
    "    text = text.lower()\n",
    "\n",
    "    # remove punctuation\\n\",\n",
    "    text = text.translate(str.maketrans(string.punctuation, ' '*len(string.punctuation)))\n",
    "\n",
    "    # tokenize\\n\",\n",
    "    text_words = nltk.word_tokenize(text)\n",
    "\n",
    "    # lemmatize\n",
    "    if lemmatize:\n",
    "        wordnet_lemmatizer = WordNetLemmatizer()\n",
    "        text_words = [wordnet_lemmatizer.lemmatize(x, pos=\"v\") for x in text_words]\n",
    "\n",
    "    if stem:\n",
    "        stemmer = SnowballStemmer(\"english\")\n",
    "        text_words = [stemmer.stem(x) for x in text_words]\n",
    "\n",
    "    # remove stop words\n",
    "    stop = list(stopwords.words('english'))\n",
    "    keep_stopwords = [\"no\", \"not\", \"nor\"]\n",
    "    for word in keep_stopwords:\n",
    "        stop.remove(word)\n",
    "        stop = set(stop)\n",
    "    filtered_words = [x for x in text_words if not x in stop]\n",
    "\n",
    "    return ' '.join(filtered_words)"
   ]
  },
  {
   "source": [
    "### Conventional and Cryptonews Data"
   ],
   "cell_type": "markdown",
   "metadata": {}
  },
  {
   "cell_type": "code",
   "execution_count": null,
   "metadata": {},
   "outputs": [],
   "source": []
  },
  {
   "cell_type": "code",
   "execution_count": null,
   "metadata": {},
   "outputs": [],
   "source": [
    "# sample with words lemmatized\n",
    "# lemmatize: fradulent -> fradulent\n",
    "sample_lemmatize = sample.copy()\n",
    "sample_lemmatize[\"title\"] = sample_lemmatize[\"title\"].apply(lambda x: pre_processing(x, lemmatize=True, stem=False))\n",
    "sample_lemmatize[\"excerpt\"] = sample_lemmatize[\"excerpt\"].apply(lambda x: pre_processing(x, lemmatize=True, stem=False))\n",
    "\n",
    "# sample with words stemmed\n",
    "# stem: fradulent -> fradul\n",
    "sample_stem = sample.copy()\n",
    "sample_stem[\"title\"] = sample_stem[\"title\"].apply(lambda x: pre_processing(x, lemmatize=False, stem=True))\n",
    "sample_stem[\"excerpt\"] = sample_stem[\"excerpt\"].apply(lambda x: pre_processing(x, lemmatize=False, stem=True))"
   ]
  },
  {
   "source": [
    "### Reddit Data"
   ],
   "cell_type": "markdown",
   "metadata": {}
  },
  {
   "cell_type": "code",
   "execution_count": null,
   "metadata": {},
   "outputs": [],
   "source": []
  },
  {
   "source": [
    "### Twitter Data"
   ],
   "cell_type": "markdown",
   "metadata": {}
  },
  {
   "cell_type": "code",
   "execution_count": null,
   "metadata": {},
   "outputs": [],
   "source": []
  },
  {
   "source": [
    "### Combined Data"
   ],
   "cell_type": "markdown",
   "metadata": {}
  },
  {
   "cell_type": "code",
   "execution_count": null,
   "metadata": {},
   "outputs": [],
   "source": []
  },
  {
   "source": [
    "## Formatting Data\n",
    "Prepare data in format required for fasttext model"
   ],
   "cell_type": "markdown",
   "metadata": {}
  },
  {
   "cell_type": "code",
   "execution_count": 3,
   "metadata": {},
   "outputs": [],
   "source": [
    "def format_data(row, include_title=True, include_excerpt=False):\n",
    "    current_row = []\n",
    "\n",
    "    # prepare label\n",
    "    label = \"__label__\" + (\"HIGH\" if row[\"label\"]==1 else \"LOW\")\n",
    "    current_row.append(label)\n",
    "\n",
    "    if include_title:\n",
    "        current_row.extend(nltk.word_tokenize(row[\"title\"]))\n",
    "    if include_excerpt:\n",
    "        current_row.extend(nltk.word_tokenize(row[\"excerpt\"]))\n",
    "    return current_row"
   ]
  },
  {
   "cell_type": "code",
   "execution_count": null,
   "metadata": {},
   "outputs": [],
   "source": [
    "def save_format_data(data_list, filename_list):\n",
    "    for i in range(len(data_list)):\n",
    "        with open(labels[i], \"w\") as csvoutfile:\n",
    "            csv_writer = csv.writer(csvoutfile, delimiter=' ', lineterminator='\\n')\n",
    "            for row in sample_list[i]:\n",
    "                csv_writer.writerow(row)"
   ]
  },
  {
   "cell_type": "code",
   "execution_count": null,
   "metadata": {},
   "outputs": [],
   "source": [
    "\n",
    "sample_lemmatize_title = sample_lemmatize.apply(lambda x: format_data(x, include_title=True, include_excerpt=False), axis=1)\n",
    "sample_lemmatize_excerpt = sample_lemmatize.apply(lambda x: format_data(x, include_title=False, include_excerpt=True), axis=1)\n",
    "sample_lemmatize_all = sample_lemmatize.apply(lambda x: format_data(x, include_title=True, include_excerpt=True), axis=1)\n",
    "\n",
    "sample_stem_title = sample_stem.apply(lambda x: format_data(x, include_title=True, include_excerpt=False), axis=1)\n",
    "sample_stem_excerpt = sample_stem.apply(lambda x: format_data(x, include_title=False, include_excerpt=True), axis=1)\n",
    "sample_stem_all = sample_stem.apply(lambda x: format_data(x, include_title=True, include_excerpt=True), axis=1)"
   ]
  },
  {
   "cell_type": "code",
   "execution_count": null,
   "metadata": {},
   "outputs": [],
   "source": [
    "# format data\n",
    "data_list = [sample_lemmatize_title, sample_lemmatize_excerpt, sample_lemmatize_all, sample_stem_title, sample_stem_excerpt, sample_stem_all]\n",
    "filename_list = [\"data/fasttext/sample_lemmatize_title.txt\", \"data/fasttext/sample_lemmatize_excerpt.txt\", \\\n",
    "    \"data/fasttext/sample_lemmatize_all.txt\", \"data/fasttext/sample_stem_title.txt\", \"data/fasttext/sample_stem_excerpt.txt\", \\\n",
    "        \"data/fasttext/sample_stem_all.txt\"]\n",
    "save_format_data(data_list=data_list, filename_list=filename_list)"
   ]
  },
  {
   "source": [
    "## Train Model"
   ],
   "cell_type": "markdown",
   "metadata": {}
  },
  {
   "cell_type": "code",
   "execution_count": 4,
   "metadata": {},
   "outputs": [],
   "source": [
    "model = fasttext.train_supervised('data/fasttext/sample_lemmatize_title.txt', dim=300, pretrained_vectors=\"utils/fasttext/wiki-news-300d-1M.vec\")"
   ]
  },
  {
   "cell_type": "code",
   "execution_count": 6,
   "metadata": {},
   "outputs": [
    {
     "output_type": "execute_result",
     "data": {
      "text/plain": "(('__label__LOW',), array([1.00001001]))"
     },
     "metadata": {},
     "execution_count": 6
    }
   ],
   "source": [
    "\n",
    "model.predict('data/fasttext/sample_lemmatize_title.txt')"
   ]
  },
  {
   "cell_type": "code",
   "execution_count": 7,
   "metadata": {},
   "outputs": [
    {
     "output_type": "error",
     "ename": "NameError",
     "evalue": "name 'sample_lemmatize_title' is not defined",
     "traceback": [
      "\u001b[0;31m---------------------------------------------------------------------------\u001b[0m",
      "\u001b[0;31mNameError\u001b[0m                                 Traceback (most recent call last)",
      "\u001b[0;32m<ipython-input-7-13526ad9aed2>\u001b[0m in \u001b[0;36m<module>\u001b[0;34m\u001b[0m\n\u001b[0;32m----> 1\u001b[0;31m \u001b[0msample_lemmatize_title\u001b[0m\u001b[0;34m.\u001b[0m\u001b[0mhead\u001b[0m\u001b[0;34m(\u001b[0m\u001b[0;34m)\u001b[0m\u001b[0;34m\u001b[0m\u001b[0;34m\u001b[0m\u001b[0m\n\u001b[0m",
      "\u001b[0;31mNameError\u001b[0m: name 'sample_lemmatize_title' is not defined"
     ]
    }
   ],
   "source": [
    "sample_lemmatize_title.head()"
   ]
  },
  {
   "cell_type": "code",
   "execution_count": null,
   "metadata": {},
   "outputs": [],
   "source": []
  }
 ]
}