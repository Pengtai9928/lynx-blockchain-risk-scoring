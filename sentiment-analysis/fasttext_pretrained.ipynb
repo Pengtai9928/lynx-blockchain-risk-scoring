{
 "metadata": {
  "language_info": {
   "codemirror_mode": {
    "name": "ipython",
    "version": 3
   },
   "file_extension": ".py",
   "mimetype": "text/x-python",
   "name": "python",
   "nbconvert_exporter": "python",
   "pygments_lexer": "ipython3",
   "version": "3.8.5-final"
  },
  "orig_nbformat": 2,
  "kernelspec": {
   "name": "python_defaultSpec_1600264681377",
   "display_name": "Python 3.8.5 64-bit ('lynx': conda)"
  }
 },
 "nbformat": 4,
 "nbformat_minor": 2,
 "cells": [
  {
   "source": [
    "# FastText Pre-Trained Model Testing"
   ],
   "cell_type": "markdown",
   "metadata": {}
  },
  {
   "cell_type": "code",
   "execution_count": 1,
   "metadata": {},
   "outputs": [],
   "source": [
    "# data manipulation\n",
    "import pandas as pd\n",
    "from sklearn.model_selection import train_test_split # train-test split\n",
    "\n",
    "# model\n",
    "import fasttext\n",
    "\n",
    "# model metrics\n",
    "from sklearn.metrics import f1_score, precision_score, recall_score "
   ]
  },
  {
   "source": [
    "## Data Pre-Processing\n",
    "### Conventional and Cryptonews Data"
   ],
   "cell_type": "markdown",
   "metadata": {}
  },
  {
   "cell_type": "code",
   "execution_count": 2,
   "metadata": {},
   "outputs": [],
   "source": [
    "# load data\n",
    "sample_crypto = pd.read_csv(\"data/sample_crypto.csv\", header=0)\n",
    "\n",
    "# remove any whitespaces\n",
    "sample_crypto[\"title\"] = sample_crypto[\"title\"].apply(lambda x: x.replace(\"\\n\",\"\"))\n",
    "sample_crypto[\"excerpt\"] = sample_crypto[\"excerpt\"].apply(lambda x: x if pd.isnull(x) else x.replace(\"\\n\",\"\"))\n",
    "\n",
    "# combine title and excerpt\n",
    "sample_crypto[\"text\"] = sample_crypto[\"title\"].fillna('') + \" \" + sample_crypto[\"excerpt\"].fillna('')\n",
    "\n",
    "# sample text\n",
    "sample_crypto_text = sample_crypto[[\"title\", \"text\", \"label\"]]\n",
    "sample_crypto_excerpt = sample_crypto[[\"excerpt\", \"label\"]]\n",
    "sample_crypto_excerpt = sample_crypto_excerpt.dropna(subset=[\"excerpt\"])\n",
    "\n",
    "# separate X and y\n",
    "X_crypto_text = sample_crypto_text[[\"title\", \"text\"]]\n",
    "y_crypto_text = sample_crypto_text[\"label\"]\n",
    "X_crypto_excerpt = sample_crypto_excerpt[\"excerpt\"]\n",
    "y_crypto_excerpt = sample_crypto_excerpt[\"label\"]"
   ]
  },
  {
   "source": [
    "### Reddit Data"
   ],
   "cell_type": "markdown",
   "metadata": {}
  },
  {
   "cell_type": "code",
   "execution_count": 3,
   "metadata": {},
   "outputs": [],
   "source": [
    "sample_reddit = pd.read_csv(\"data/sample_reddit.csv\", header=0)[[\"title\", \"excerpt\", \"label\"]]\n",
    "\n",
    "# combine title and excerpt (if any)\n",
    "sample_reddit[\"text\"] = sample_reddit[\"title\"].fillna('') + \" \" + sample_reddit[\"excerpt\"].fillna('')\n",
    "\n",
    "# remove any whitespaces in text\n",
    "sample_reddit[\"text\"] = sample_reddit[\"text\"].apply(lambda x: x.replace(\"\\n\",\"\"))\n",
    "\n",
    "# separate X and y\n",
    "X_reddit = sample_reddit[\"text\"]\n",
    "y_reddit = sample_reddit[\"label\"]"
   ]
  },
  {
   "source": [
    "### Twitter Data"
   ],
   "cell_type": "markdown",
   "metadata": {}
  },
  {
   "cell_type": "code",
   "execution_count": 4,
   "metadata": {},
   "outputs": [],
   "source": [
    "sample_twitter = pd.read_csv(\"data/sample_twitter.csv\", header=0)[[\"text\", \"label\"]]\n",
    "\n",
    "# remove any whitespaces in text\n",
    "sample_twitter[\"text\"] = sample_twitter[\"text\"].apply(lambda x: x.replace(\"\\n\",\"\"))\n",
    "\n",
    "# separate X and y\n",
    "X_twitter = sample_twitter[\"text\"]\n",
    "y_twitter = sample_twitter[\"label\"]"
   ]
  },
  {
   "source": [
    "### Combined Data"
   ],
   "cell_type": "markdown",
   "metadata": {}
  },
  {
   "cell_type": "code",
   "execution_count": 5,
   "metadata": {},
   "outputs": [],
   "source": [
    "sample_combined = pd.concat([sample_crypto[[\"text\", \"label\"]], sample_reddit[[\"text\", \"label\"]], sample_twitter])\n",
    "\n",
    "# separate X and y\n",
    "X_combined = sample_combined[\"text\"]\n",
    "y_combined = sample_combined[\"label\"]"
   ]
  },
  {
   "source": [
    "## Amazon Polarity Review Model"
   ],
   "cell_type": "markdown",
   "metadata": {}
  },
  {
   "cell_type": "code",
   "execution_count": 6,
   "metadata": {
    "tags": []
   },
   "outputs": [
    {
     "output_type": "stream",
     "name": "stderr",
     "text": "Warning : `load_model` does not return WordVectorModel or SupervisedModel any more, but a `FastText` object which is very similar.\n"
    }
   ],
   "source": [
    "# load model\n",
    "model_amazon = fasttext.load_model(\"utils/fasttext/amazon_review_polarity.ftz\")"
   ]
  },
  {
   "source": [
    "### Conventional and Cryptonews Data\n",
    "#### Title Only"
   ],
   "cell_type": "markdown",
   "metadata": {}
  },
  {
   "cell_type": "code",
   "execution_count": 7,
   "metadata": {
    "tags": []
   },
   "outputs": [
    {
     "output_type": "stream",
     "name": "stdout",
     "text": "metrics\nprecision score: 0.20654044750430292\nrecall score: 0.6798866855524079\nf1 score: 0.3168316831683168\n"
    }
   ],
   "source": [
    "y_crypto_title_pred = [model_amazon.predict(x)[0][0][-1] for x in X_crypto_text.title]\n",
    "y_crypto_title_pred = [1 if (x=='1') else 0 for x in y_crypto_title_pred] # assign to 1 if risk, 0 otherwise\n",
    "\n",
    "print(\"metrics\")\n",
    "print(\"precision score:\", precision_score(y_crypto_text, y_crypto_title_pred, average=\"binary\", pos_label=1))\n",
    "print(\"recall score:\", recall_score(y_crypto_text, y_crypto_title_pred, average=\"binary\", pos_label=1))\n",
    "print(\"f1 score:\", f1_score(y_crypto_text, y_crypto_title_pred, average=\"binary\", pos_label=1))"
   ]
  },
  {
   "source": [
    "#### Excerpt Only"
   ],
   "cell_type": "markdown",
   "metadata": {}
  },
  {
   "cell_type": "code",
   "execution_count": 8,
   "metadata": {
    "tags": []
   },
   "outputs": [
    {
     "output_type": "stream",
     "name": "stdout",
     "text": "metrics\nprecision score: 0.27906976744186046\nrecall score: 0.5944272445820433\nf1 score: 0.37982195845697325\n"
    }
   ],
   "source": [
    "y_crypto_excerpt_pred = [model_amazon.predict(x)[0][0][-1] for x in X_crypto_excerpt.excerpt]\n",
    "y_crypto_excerpt_pred = [1 if (x=='1') else 0 for x in y_crypto_excerpt_pred] # assign to 1 if risk, 0 otherwise\n",
    "\n",
    "print(\"metrics\")\n",
    "print(\"precision score:\", precision_score(y_crypto_excerpt, y_crypto_excerpt_pred, average=\"binary\", pos_label=1))\n",
    "print(\"recall score:\", recall_score(y_crypto_excerpt, y_crypto_excerpt_pred, average=\"binary\", pos_label=1))\n",
    "print(\"f1 score:\", f1_score(y_crypto_excerpt, y_crypto_excerpt_pred, average=\"binary\", pos_label=1))"
   ]
  },
  {
   "source": [
    "#### Title and Excerpt Combined"
   ],
   "cell_type": "markdown",
   "metadata": {}
  },
  {
   "cell_type": "code",
   "execution_count": 9,
   "metadata": {
    "tags": []
   },
   "outputs": [
    {
     "output_type": "stream",
     "name": "stdout",
     "text": "metrics\nprecision score: 0.2784313725490196\nrecall score: 0.603399433427762\nf1 score: 0.3810375670840787\n"
    }
   ],
   "source": [
    "y_crypto_text_pred = [model_amazon.predict(x)[0][0][-1] for x in X_crypto_text.text]\n",
    "y_crypto_text_pred = [1 if (x=='1') else 0 for x in y_crypto_text_pred] # assign to 1 if risk, 0 otherwise\n",
    "\n",
    "print(\"metrics\")\n",
    "print(\"precision score:\", precision_score(y_crypto_text, y_crypto_text_pred, average=\"binary\", pos_label=1))\n",
    "print(\"recall score:\", recall_score(y_crypto_text, y_crypto_text_pred, average=\"binary\", pos_label=1))\n",
    "print(\"f1 score:\", f1_score(y_crypto_text, y_crypto_text_pred, average=\"binary\", pos_label=1))"
   ]
  },
  {
   "source": [
    "### Reddit Data"
   ],
   "cell_type": "markdown",
   "metadata": {}
  },
  {
   "cell_type": "code",
   "execution_count": 10,
   "metadata": {
    "tags": []
   },
   "outputs": [
    {
     "output_type": "stream",
     "name": "stdout",
     "text": "metrics\nprecision score: 0.4281263907432132\nrecall score: 0.8166383701188455\nf1 score: 0.5617518248175183\n"
    }
   ],
   "source": [
    "y_reddit_pred = [model_amazon.predict(x)[0][0][-1] for x in X_reddit]\n",
    "y_reddit_pred = [1 if (x=='1') else 0 for x in y_reddit_pred] # assign to 1 if risk, 0 otherwise\n",
    "\n",
    "print(\"metrics\")\n",
    "print(\"precision score:\", precision_score(y_reddit, y_reddit_pred, average=\"binary\", pos_label=1))\n",
    "print(\"recall score:\", recall_score(y_reddit, y_reddit_pred, average=\"binary\", pos_label=1))\n",
    "print(\"f1 score:\", f1_score(y_reddit, y_reddit_pred, average=\"binary\", pos_label=1))"
   ]
  },
  {
   "source": [
    "### Twitter Data"
   ],
   "cell_type": "markdown",
   "metadata": {}
  },
  {
   "cell_type": "code",
   "execution_count": 11,
   "metadata": {
    "tags": []
   },
   "outputs": [
    {
     "output_type": "stream",
     "name": "stdout",
     "text": "metrics\nprecision score: 0.5852713178294574\nrecall score: 0.7365853658536585\nf1 score: 0.6522678185745141\n"
    }
   ],
   "source": [
    "y_twitter_pred = [model_amazon.predict(x)[0][0][-1] for x in X_twitter]\n",
    "y_twitter_pred = [1 if (x=='1') else 0 for x in y_twitter_pred] # assign to 1 if risk, 0 otherwise\n",
    "\n",
    "print(\"metrics\")\n",
    "print(\"precision score:\", precision_score(y_twitter, y_twitter_pred, average=\"binary\", pos_label=1))\n",
    "print(\"recall score:\", recall_score(y_twitter, y_twitter_pred, average=\"binary\", pos_label=1))\n",
    "print(\"f1 score:\", f1_score(y_twitter, y_twitter_pred, average=\"binary\", pos_label=1))"
   ]
  },
  {
   "source": [
    "### Combined Data"
   ],
   "cell_type": "markdown",
   "metadata": {}
  },
  {
   "cell_type": "code",
   "execution_count": 12,
   "metadata": {
    "tags": []
   },
   "outputs": [
    {
     "output_type": "stream",
     "name": "stdout",
     "text": "metrics\nprecision score: 0.4055045871559633\nrecall score: 0.7638248847926268\nf1 score: 0.5297642828605673\n"
    }
   ],
   "source": [
    "y_combined_pred = [model_amazon.predict(x)[0][0][-1] for x in X_combined]\n",
    "y_combined_pred = [1 if (x=='1') else 0 for x in y_combined_pred] # assign to 1 if risk, 0 otherwise\n",
    "\n",
    "print(\"metrics\")\n",
    "print(\"precision score:\", precision_score(y_combined, y_combined_pred, average=\"binary\", pos_label=1))\n",
    "print(\"recall score:\", recall_score(y_combined, y_combined_pred, average=\"binary\", pos_label=1))\n",
    "print(\"f1 score:\", f1_score(y_combined, y_combined_pred, average=\"binary\", pos_label=1))"
   ]
  },
  {
   "source": [
    "## Yelp Polarity Review Model "
   ],
   "cell_type": "markdown",
   "metadata": {}
  },
  {
   "cell_type": "code",
   "execution_count": 13,
   "metadata": {
    "tags": []
   },
   "outputs": [
    {
     "output_type": "stream",
     "name": "stderr",
     "text": "Warning : `load_model` does not return WordVectorModel or SupervisedModel any more, but a `FastText` object which is very similar.\n"
    }
   ],
   "source": [
    "# load model\n",
    "model_yelp = fasttext.load_model(\"utils/fasttext/yelp_review_polarity.ftz\")"
   ]
  },
  {
   "source": [
    "### Conventional and Cryptonews Data\n",
    "#### Title Only"
   ],
   "cell_type": "markdown",
   "metadata": {}
  },
  {
   "cell_type": "code",
   "execution_count": 14,
   "metadata": {
    "tags": []
   },
   "outputs": [
    {
     "output_type": "stream",
     "name": "stdout",
     "text": "metrics\nprecision score: 0.1981981981981982\nrecall score: 0.9348441926345609\nf1 score: 0.3270564915758176\n"
    }
   ],
   "source": [
    "y_crypto_title_pred = [model_yelp.predict(x)[0][0][-1] for x in X_crypto_text.title]\n",
    "y_crypto_title_pred = [1 if (x=='1') else 0 for x in y_crypto_title_pred] # assign to 1 if risk, 0 otherwise\n",
    "\n",
    "print(\"metrics\")\n",
    "print(\"precision score:\", precision_score(y_crypto_text, y_crypto_title_pred, average=\"binary\", pos_label=1))\n",
    "print(\"recall score:\", recall_score(y_crypto_text, y_crypto_title_pred, average=\"binary\", pos_label=1))\n",
    "print(\"f1 score:\", f1_score(y_crypto_text, y_crypto_title_pred, average=\"binary\", pos_label=1))"
   ]
  },
  {
   "source": [
    "#### Excerpt Only"
   ],
   "cell_type": "markdown",
   "metadata": {}
  },
  {
   "cell_type": "code",
   "execution_count": 15,
   "metadata": {
    "tags": []
   },
   "outputs": [
    {
     "output_type": "stream",
     "name": "stdout",
     "text": "metrics\nprecision score: 0.2357581069237511\nrecall score: 0.8328173374613003\nf1 score: 0.36748633879781417\n"
    }
   ],
   "source": [
    "y_crypto_excerpt_pred = [model_yelp.predict(x)[0][0][-1] for x in X_crypto_excerpt.excerpt]\n",
    "y_crypto_excerpt_pred = [1 if (x=='1') else 0 for x in y_crypto_excerpt_pred] # assign to 1 if risk, 0 otherwise\n",
    "\n",
    "print(\"metrics\")\n",
    "print(\"precision score:\", precision_score(y_crypto_excerpt, y_crypto_excerpt_pred, average=\"binary\", pos_label=1))\n",
    "print(\"recall score:\", recall_score(y_crypto_excerpt, y_crypto_excerpt_pred, average=\"binary\", pos_label=1))\n",
    "print(\"f1 score:\", f1_score(y_crypto_excerpt, y_crypto_excerpt_pred, average=\"binary\", pos_label=1))"
   ]
  },
  {
   "source": [
    "#### Title and Excerpt Combined"
   ],
   "cell_type": "markdown",
   "metadata": {}
  },
  {
   "cell_type": "code",
   "execution_count": 16,
   "metadata": {
    "tags": []
   },
   "outputs": [
    {
     "output_type": "stream",
     "name": "stdout",
     "text": "metrics\nprecision score: 0.23101018010963195\nrecall score: 0.8356940509915014\nf1 score: 0.36196319018404904\n"
    }
   ],
   "source": [
    "y_crypto_text_pred = [model_yelp.predict(x)[0][0][-1] for x in X_crypto_text.text]\n",
    "y_crypto_text_pred = [1 if (x=='1') else 0 for x in y_crypto_text_pred] # assign to 1 if risk, 0 otherwise\n",
    "\n",
    "print(\"metrics\")\n",
    "print(\"precision score:\", precision_score(y_crypto_text, y_crypto_text_pred, average=\"binary\", pos_label=1))\n",
    "print(\"recall score:\", recall_score(y_crypto_text, y_crypto_text_pred, average=\"binary\", pos_label=1))\n",
    "print(\"f1 score:\", f1_score(y_crypto_text, y_crypto_text_pred, average=\"binary\", pos_label=1))"
   ]
  },
  {
   "source": [
    "### Reddit Data"
   ],
   "cell_type": "markdown",
   "metadata": {}
  },
  {
   "cell_type": "code",
   "execution_count": 17,
   "metadata": {
    "tags": []
   },
   "outputs": [
    {
     "output_type": "stream",
     "name": "stdout",
     "text": "metrics\nprecision score: 0.3744697261858851\nrecall score: 0.8242784380305602\nf1 score: 0.514982763192787\n"
    }
   ],
   "source": [
    "y_reddit_pred = [model_yelp.predict(x)[0][0][-1] for x in X_reddit]\n",
    "y_reddit_pred = [1 if (x=='1') else 0 for x in y_reddit_pred] # assign to 1 if risk, 0 otherwise\n",
    "\n",
    "print(\"metrics\")\n",
    "print(\"precision score:\", precision_score(y_reddit, y_reddit_pred, average=\"binary\", pos_label=1))\n",
    "print(\"recall score:\", recall_score(y_reddit, y_reddit_pred, average=\"binary\", pos_label=1))\n",
    "print(\"f1 score:\", f1_score(y_reddit, y_reddit_pred, average=\"binary\", pos_label=1))"
   ]
  },
  {
   "source": [
    "### Twitter Data"
   ],
   "cell_type": "markdown",
   "metadata": {}
  },
  {
   "cell_type": "code",
   "execution_count": 18,
   "metadata": {
    "tags": []
   },
   "outputs": [
    {
     "output_type": "stream",
     "name": "stdout",
     "text": "metrics\nprecision score: 0.571875\nrecall score: 0.8926829268292683\nf1 score: 0.6971428571428571\n"
    }
   ],
   "source": [
    "y_twitter_pred = [model_yelp.predict(x)[0][0][-1] for x in X_twitter]\n",
    "y_twitter_pred = [1 if (x=='1') else 0 for x in y_twitter_pred] # assign to 1 if risk, 0 otherwise\n",
    "\n",
    "print(\"metrics\")\n",
    "print(\"precision score:\", precision_score(y_twitter, y_twitter_pred, average=\"binary\", pos_label=1))\n",
    "print(\"recall score:\", recall_score(y_twitter, y_twitter_pred, average=\"binary\", pos_label=1))\n",
    "print(\"f1 score:\", f1_score(y_twitter, y_twitter_pred, average=\"binary\", pos_label=1))"
   ]
  },
  {
   "source": [
    "### Combined Data"
   ],
   "cell_type": "markdown",
   "metadata": {}
  },
  {
   "cell_type": "code",
   "execution_count": 19,
   "metadata": {
    "tags": []
   },
   "outputs": [
    {
     "output_type": "stream",
     "name": "stdout",
     "text": "metrics\nprecision score: 0.3458233890214797\nrecall score: 0.8346774193548387\nf1 score: 0.48903138710766114\n"
    }
   ],
   "source": [
    "y_combined_pred = [model_yelp.predict(x)[0][0][-1] for x in X_combined]\n",
    "y_combined_pred = [1 if (x=='1') else 0 for x in y_combined_pred] # assign to 1 if risk, 0 otherwise\n",
    "\n",
    "print(\"metrics\")\n",
    "print(\"precision score:\", precision_score(y_combined, y_combined_pred, average=\"binary\", pos_label=1))\n",
    "print(\"recall score:\", recall_score(y_combined, y_combined_pred, average=\"binary\", pos_label=1))\n",
    "print(\"f1 score:\", f1_score(y_combined, y_combined_pred, average=\"binary\", pos_label=1))"
   ]
  }
 ]
}